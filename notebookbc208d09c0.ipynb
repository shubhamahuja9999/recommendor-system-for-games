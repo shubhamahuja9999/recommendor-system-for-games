{
 "cells": [
  {
   "cell_type": "markdown",
   "metadata": {},
   "source": [
    "## Video Games Recommendation System\n",
    "\n",
    "The aim of the project is to offer recommendations for video games based on a particular game title and platform <em>(optional)</em> as the input. This initiative will benefit individuals who are interested in exploring and finding new games.\n",
    "\n",
    "### Importing and Transforming Dataset"
   ]
  },
  {
   "cell_type": "code",
   "execution_count": null,
   "metadata": {},
   "outputs": [],
   "source": []
  },
  {
   "cell_type": "code",
   "execution_count": null,
   "metadata": {
    "execution": {
     "iopub.execute_input": "2023-04-28T22:38:13.210131Z",
     "iopub.status.busy": "2023-04-28T22:38:13.209734Z",
     "iopub.status.idle": "2023-04-28T22:38:13.217999Z",
     "shell.execute_reply": "2023-04-28T22:38:13.216477Z",
     "shell.execute_reply.started": "2023-04-28T22:38:13.210095Z"
    },
    "trusted": true
   },
   "outputs": [],
   "source": [
    "import pandas as pd\n",
    "import numpy as np\n",
    "import matplotlib.pyplot as plt\n",
    "import seaborn as sns\n",
    "import warnings\n",
    "import os\n",
    "\n",
    "from sklearn.neighbors import NearestNeighbors\n",
    "from sklearn.preprocessing import StandardScaler\n",
    "from sklearn.feature_extraction.text import TfidfVectorizer\n",
    "from sklearn.metrics.pairwise import cosine_similarity\n",
    "\n",
    "warnings.filterwarnings(\"ignore\")"
   ]
  },
  {
   "cell_type": "markdown",
   "metadata": {},
   "source": [
    "The dataset was obtained from <a href=\"https://www.kaggle.com/datasets/rush4ratio/video-game-sales-with-ratings\">Video Game Sales with Ratings</a> in Kaggle, which were web scraped by Gregory Smith from VGChartz Video Games Sales. The collection of data includes details such as the game's title, genre, the platform it runs on, the company that published it, and other relevant information. From year 1980 up to 2020, the dataset includes a wide range of video game releases that spans over four decades."
   ]
  },
  {
   "cell_type": "code",
   "execution_count": null,
   "metadata": {
    "execution": {
     "iopub.execute_input": "2023-04-28T22:38:13.223085Z",
     "iopub.status.busy": "2023-04-28T22:38:13.222755Z",
     "iopub.status.idle": "2023-04-28T22:38:13.292434Z",
     "shell.execute_reply": "2023-04-28T22:38:13.291144Z",
     "shell.execute_reply.started": "2023-04-28T22:38:13.223054Z"
    },
    "trusted": true
   },
   "outputs": [],
   "source": [
    "video_games_df = pd.read_csv('/kaggle/input/video-game-sales-with-ratings/Video_Games_Sales_as_at_22_Dec_2016.csv')\n",
    "\n",
    "print(f\"No. of records: {video_games_df.shape[0]}\")\n",
    "video_games_df.head(5)"
   ]
  },
  {
   "cell_type": "markdown",
   "metadata": {},
   "source": [
    "We selected only the features that are relevant for our recommendation system."
   ]
  },
  {
   "cell_type": "code",
   "execution_count": null,
   "metadata": {
    "execution": {
     "iopub.execute_input": "2023-04-28T22:38:13.2947Z",
     "iopub.status.busy": "2023-04-28T22:38:13.294388Z",
     "iopub.status.idle": "2023-04-28T22:38:13.314767Z",
     "shell.execute_reply": "2023-04-28T22:38:13.313367Z",
     "shell.execute_reply.started": "2023-04-28T22:38:13.29467Z"
    },
    "trusted": true
   },
   "outputs": [],
   "source": [
    "video_games_filtered_df = video_games_df[['Name', 'Platform', 'Genre', 'Critic_Score', 'User_Score', 'Rating']]\n",
    "video_games_filtered_df.info()"
   ]
  },
  {
   "cell_type": "markdown",
   "metadata": {},
   "source": [
    "### Exploratory Data Analysis\n",
    "\n",
    "Check the total number of missing values for each feature in the dataset "
   ]
  },
  {
   "cell_type": "code",
   "execution_count": null,
   "metadata": {
    "execution": {
     "iopub.execute_input": "2023-04-28T22:38:13.316533Z",
     "iopub.status.busy": "2023-04-28T22:38:13.316204Z",
     "iopub.status.idle": "2023-04-28T22:38:13.331601Z",
     "shell.execute_reply": "2023-04-28T22:38:13.33029Z",
     "shell.execute_reply.started": "2023-04-28T22:38:13.316499Z"
    },
    "trusted": true
   },
   "outputs": [],
   "source": [
    "video_games_filtered_df.isna().sum().sort_values(ascending=False)"
   ]
  },
  {
   "cell_type": "markdown",
   "metadata": {},
   "source": [
    "Remove the records with missing data in the `Name`, `Genre` and `Ratings` features."
   ]
  },
  {
   "cell_type": "code",
   "execution_count": null,
   "metadata": {
    "execution": {
     "iopub.execute_input": "2023-04-28T22:38:13.334638Z",
     "iopub.status.busy": "2023-04-28T22:38:13.334287Z",
     "iopub.status.idle": "2023-04-28T22:38:13.354262Z",
     "shell.execute_reply": "2023-04-28T22:38:13.353133Z",
     "shell.execute_reply.started": "2023-04-28T22:38:13.334605Z"
    },
    "trusted": true
   },
   "outputs": [],
   "source": [
    "# Remove missing values\n",
    "video_games_filtered_df.dropna(subset=['Name', 'Genre', 'Rating'], axis=0, inplace=True)\n",
    "video_games_filtered_df = video_games_filtered_df.reset_index(drop=True)\n",
    "\n",
    "video_games_filtered_df[['Name', 'Genre', 'Rating']].isna().sum()"
   ]
  },
  {
   "cell_type": "markdown",
   "metadata": {},
   "source": [
    "Examine the frequency of data types for each categorical feature: `Genre`, `Platform`, and `Rating`."
   ]
  },
  {
   "cell_type": "code",
   "execution_count": null,
   "metadata": {
    "execution": {
     "iopub.execute_input": "2023-04-28T22:38:13.356048Z",
     "iopub.status.busy": "2023-04-28T22:38:13.355721Z",
     "iopub.status.idle": "2023-04-28T22:38:14.326335Z",
     "shell.execute_reply": "2023-04-28T22:38:14.325166Z",
     "shell.execute_reply.started": "2023-04-28T22:38:13.356016Z"
    },
    "trusted": true
   },
   "outputs": [],
   "source": [
    "features = video_games_filtered_df[['Genre', 'Platform', 'Rating']].columns\n",
    "\n",
    "for idx, feature in enumerate(features):\n",
    "    plt.figure(figsize = (13,4))\n",
    "    sns.countplot(data=video_games_filtered_df, x=feature)\n",
    "    plt.xlabel(feature)\n",
    "    plt.ylabel('Frequency')\n",
    "    plt.title(\" Data Distribution of Video Game \" + feature + \"s\")\n",
    "plt.show()"
   ]
  },
  {
   "cell_type": "markdown",
   "metadata": {},
   "source": [
    "From the charts above, we can say that there is a scarcity of data available for certain platforms such as DC, and certain ratings such as 'K-A', 'AO’, 'EC' and 'RP'. "
   ]
  },
  {
   "cell_type": "markdown",
   "metadata": {},
   "source": [
    "Create additional features that correspond to `User_Score` and `Critic_score` variables. Replace all missing and 'tbd' values with a specific value -- the imputed data is calculated as the mean value of the respective feature within a particular genre, e.g. the average of all scores under the 'Action' category."
   ]
  },
  {
   "cell_type": "code",
   "execution_count": null,
   "metadata": {
    "execution": {
     "iopub.execute_input": "2023-04-28T22:38:14.328319Z",
     "iopub.status.busy": "2023-04-28T22:38:14.327866Z",
     "iopub.status.idle": "2023-04-28T22:38:14.370264Z",
     "shell.execute_reply": "2023-04-28T22:38:14.369205Z",
     "shell.execute_reply.started": "2023-04-28T22:38:14.328247Z"
    },
    "trusted": true
   },
   "outputs": [],
   "source": [
    "# Replace 'tbd' value to NaN\n",
    "video_games_filtered_df['User_Score'] = np.where(video_games_filtered_df['User_Score'] == 'tbd', \n",
    "                                                 np.nan, \n",
    "                                                 video_games_filtered_df['User_Score']).astype(float)\n",
    "\n",
    "# Group the records by Genre, then aggregate them calculating the average of both Critic Score and User Score\n",
    "video_game_grpby_genre = video_games_filtered_df[['Genre', 'Critic_Score', 'User_Score']].groupby('Genre', as_index=False)\n",
    "video_game_score_mean = video_game_grpby_genre.agg(Ave_Critic_Score = ('Critic_Score', 'mean'), Ave_User_Score = ('User_Score', 'mean'))\n",
    "\n",
    "# Merge the average scores with the main dataframe\n",
    "video_games_filtered_df = video_games_filtered_df.merge(video_game_score_mean, on='Genre')\n",
    "video_games_filtered_df"
   ]
  },
  {
   "cell_type": "code",
   "execution_count": null,
   "metadata": {
    "execution": {
     "iopub.execute_input": "2023-04-28T22:38:14.371727Z",
     "iopub.status.busy": "2023-04-28T22:38:14.371428Z",
     "iopub.status.idle": "2023-04-28T22:38:14.397716Z",
     "shell.execute_reply": "2023-04-28T22:38:14.396482Z",
     "shell.execute_reply.started": "2023-04-28T22:38:14.371698Z"
    },
    "trusted": true
   },
   "outputs": [],
   "source": [
    "video_games_filtered_df['Critic_Score_Imputed'] = np.where(video_games_filtered_df['Critic_Score'].isna(), \n",
    "                                                           video_games_filtered_df['Ave_Critic_Score'], \n",
    "                                                           video_games_filtered_df['Critic_Score'])\n",
    "\n",
    "video_games_filtered_df['User_Score_Imputed'] = np.where(video_games_filtered_df['User_Score'].isna(), \n",
    "                                                         video_games_filtered_df['Ave_User_Score'], \n",
    "                                                         video_games_filtered_df['User_Score'])\n",
    "video_games_filtered_df"
   ]
  },
  {
   "cell_type": "markdown",
   "metadata": {},
   "source": [
    "Compare the summary statistics of `User_Score` and `Critic_Score` and the new feature with imputed values, i.e.`User_Score_Imputed` and `Critic_Score_Imputed`. The results below show that filling in missing values has no significant impact on the average and the standard deviation."
   ]
  },
  {
   "cell_type": "code",
   "execution_count": null,
   "metadata": {
    "execution": {
     "iopub.execute_input": "2023-04-28T22:38:14.399793Z",
     "iopub.status.busy": "2023-04-28T22:38:14.399374Z",
     "iopub.status.idle": "2023-04-28T22:38:14.428303Z",
     "shell.execute_reply": "2023-04-28T22:38:14.427186Z",
     "shell.execute_reply.started": "2023-04-28T22:38:14.399755Z"
    },
    "trusted": true
   },
   "outputs": [],
   "source": [
    "video_games_filtered_df[['Critic_Score', 'Critic_Score_Imputed', 'User_Score', 'User_Score_Imputed']].describe()"
   ]
  },
  {
   "cell_type": "markdown",
   "metadata": {},
   "source": [
    "Drop all the fields related to critic and user scores except for the new features with imputed values."
   ]
  },
  {
   "cell_type": "code",
   "execution_count": null,
   "metadata": {
    "execution": {
     "iopub.execute_input": "2023-04-28T22:38:14.431916Z",
     "iopub.status.busy": "2023-04-28T22:38:14.431597Z",
     "iopub.status.idle": "2023-04-28T22:38:14.450616Z",
     "shell.execute_reply": "2023-04-28T22:38:14.44885Z",
     "shell.execute_reply.started": "2023-04-28T22:38:14.431885Z"
    },
    "trusted": true
   },
   "outputs": [],
   "source": [
    "video_games_final_df = video_games_filtered_df.drop(columns=['User_Score', 'Critic_Score', 'Ave_Critic_Score', 'Ave_User_Score'], axis=1)\n",
    "video_games_final_df = video_games_final_df.reset_index(drop=True)\n",
    "\n",
    "video_games_final_df = video_games_final_df.rename(columns={'Critic_Score_Imputed':'Critic_Score', 'User_Score_Imputed':'User_Score'})\n",
    "video_games_final_df.info()"
   ]
  },
  {
   "cell_type": "markdown",
   "metadata": {},
   "source": [
    "Analyze the data distribution for `Critic_Score` and `User_Score`, and assess the correlation between these two features."
   ]
  },
  {
   "cell_type": "code",
   "execution_count": null,
   "metadata": {
    "execution": {
     "iopub.execute_input": "2023-04-28T22:38:14.452279Z",
     "iopub.status.busy": "2023-04-28T22:38:14.451964Z",
     "iopub.status.idle": "2023-04-28T22:38:14.680647Z",
     "shell.execute_reply": "2023-04-28T22:38:14.679631Z",
     "shell.execute_reply.started": "2023-04-28T22:38:14.452246Z"
    },
    "trusted": true
   },
   "outputs": [],
   "source": [
    "hist, bins = np.histogram(video_games_final_df['Critic_Score'], bins=10, range=(0, 100))\n",
    "\n",
    "plt.figure(figsize = (8,4))\n",
    "plt.bar(bins[:-1], hist, width=(bins[1]-bins[0]), align='edge')\n",
    "plt.xlabel('Critic Score')\n",
    "plt.ylabel('Frequency')\n",
    "plt.title(\"Data Distribution of Critic Scores\")\n",
    "plt.show()"
   ]
  },
  {
   "cell_type": "code",
   "execution_count": null,
   "metadata": {
    "execution": {
     "iopub.execute_input": "2023-04-28T22:38:14.683043Z",
     "iopub.status.busy": "2023-04-28T22:38:14.682051Z",
     "iopub.status.idle": "2023-04-28T22:38:14.924236Z",
     "shell.execute_reply": "2023-04-28T22:38:14.923302Z",
     "shell.execute_reply.started": "2023-04-28T22:38:14.683005Z"
    },
    "trusted": true
   },
   "outputs": [],
   "source": [
    "hist, bins = np.histogram(video_games_final_df['User_Score'], bins=10, range=(0, 10))\n",
    "\n",
    "plt.figure(figsize = (8,4))\n",
    "plt.bar(bins[:-1], hist, width=(bins[1]-bins[0]), align='edge')\n",
    "plt.xlabel('User Score')\n",
    "plt.ylabel('Frequency')\n",
    "plt.title(\"Data Distribution of User Scores\")\n",
    "plt.show()"
   ]
  },
  {
   "cell_type": "code",
   "execution_count": null,
   "metadata": {
    "execution": {
     "iopub.execute_input": "2023-04-28T22:38:14.926709Z",
     "iopub.status.busy": "2023-04-28T22:38:14.926385Z",
     "iopub.status.idle": "2023-04-28T22:38:15.835827Z",
     "shell.execute_reply": "2023-04-28T22:38:15.834722Z",
     "shell.execute_reply.started": "2023-04-28T22:38:14.926675Z"
    },
    "trusted": true
   },
   "outputs": [],
   "source": [
    "plt.figure(figsize=(8, 8))\n",
    "ax = sns.regplot(x=video_games_final_df['User_Score'], y=video_games_final_df['Critic_Score'], \n",
    "                 line_kws={\"color\": \"black\"}, scatter_kws={'s': 4})\n",
    "ax.set(xlabel =\"User Score\", ylabel = \"Critic Score\", title=\"User Scores vs. Critic Scores\")"
   ]
  },
  {
   "cell_type": "markdown",
   "metadata": {},
   "source": [
    "Display the dataframe information to quickly understand its structure and characteristics."
   ]
  },
  {
   "cell_type": "code",
   "execution_count": null,
   "metadata": {
    "execution": {
     "iopub.execute_input": "2023-04-28T22:38:15.837866Z",
     "iopub.status.busy": "2023-04-28T22:38:15.837548Z",
     "iopub.status.idle": "2023-04-28T22:38:15.855073Z",
     "shell.execute_reply": "2023-04-28T22:38:15.85419Z",
     "shell.execute_reply.started": "2023-04-28T22:38:15.837823Z"
    },
    "trusted": true
   },
   "outputs": [],
   "source": [
    "video_games_final_df.info()"
   ]
  },
  {
   "cell_type": "markdown",
   "metadata": {},
   "source": [
    "### Converting Categorical Features to Dummy Indicators\n",
    "\n",
    "Obtain all categorical features, except for the title of the game."
   ]
  },
  {
   "cell_type": "code",
   "execution_count": null,
   "metadata": {
    "execution": {
     "iopub.execute_input": "2023-04-28T22:38:15.857395Z",
     "iopub.status.busy": "2023-04-28T22:38:15.856662Z",
     "iopub.status.idle": "2023-04-28T22:38:15.863411Z",
     "shell.execute_reply": "2023-04-28T22:38:15.862357Z",
     "shell.execute_reply.started": "2023-04-28T22:38:15.857342Z"
    },
    "trusted": true
   },
   "outputs": [],
   "source": [
    "categorical_columns = [name for name in video_games_final_df.columns if video_games_final_df[name].dtype=='O']\n",
    "categorical_columns = categorical_columns[1:]\n",
    "\n",
    "print(f'There are {len(categorical_columns)} categorical features:\\n')\n",
    "print(\", \".join(categorical_columns))"
   ]
  },
  {
   "cell_type": "markdown",
   "metadata": {},
   "source": [
    "Transform all categorical attributes into binary dummy variables where the value is 0 (representing No) or 1 (representing Yes)."
   ]
  },
  {
   "cell_type": "code",
   "execution_count": null,
   "metadata": {
    "execution": {
     "iopub.execute_input": "2023-04-28T22:38:15.865466Z",
     "iopub.status.busy": "2023-04-28T22:38:15.86504Z",
     "iopub.status.idle": "2023-04-28T22:38:15.897985Z",
     "shell.execute_reply": "2023-04-28T22:38:15.896673Z",
     "shell.execute_reply.started": "2023-04-28T22:38:15.865429Z"
    },
    "trusted": true
   },
   "outputs": [],
   "source": [
    "video_games_df_dummy = pd.get_dummies(data=video_games_final_df, columns=categorical_columns)\n",
    "video_games_df_dummy.head(5)"
   ]
  },
  {
   "cell_type": "markdown",
   "metadata": {},
   "source": [
    "After the conversion, the variables have expanded from the original 6 columns to a total of 40 columns."
   ]
  },
  {
   "cell_type": "code",
   "execution_count": null,
   "metadata": {
    "execution": {
     "iopub.execute_input": "2023-04-28T22:38:15.900957Z",
     "iopub.status.busy": "2023-04-28T22:38:15.900224Z",
     "iopub.status.idle": "2023-04-28T22:38:15.918925Z",
     "shell.execute_reply": "2023-04-28T22:38:15.917645Z",
     "shell.execute_reply.started": "2023-04-28T22:38:15.900908Z"
    },
    "trusted": true
   },
   "outputs": [],
   "source": [
    "video_games_df_dummy.info()"
   ]
  },
  {
   "cell_type": "markdown",
   "metadata": {},
   "source": [
    "### Standardizing the Numerical Features\n",
    "\n",
    "Transform numerical data to a standardized form by scaling them to have a mean of 0 and a standard deviation of 1. The purpose of standardization is to ensure that all features are on a similar scale and have equal importance in determining the output variable."
   ]
  },
  {
   "cell_type": "code",
   "execution_count": null,
   "metadata": {
    "execution": {
     "iopub.execute_input": "2023-04-28T22:38:15.920832Z",
     "iopub.status.busy": "2023-04-28T22:38:15.92037Z",
     "iopub.status.idle": "2023-04-28T22:38:15.963383Z",
     "shell.execute_reply": "2023-04-28T22:38:15.96222Z",
     "shell.execute_reply.started": "2023-04-28T22:38:15.920775Z"
    },
    "trusted": true
   },
   "outputs": [],
   "source": [
    "features = video_games_df_dummy.drop(columns=['Name'], axis=1)\n",
    "\n",
    "scale = StandardScaler()\n",
    "scaled_features = scale.fit_transform(features)\n",
    "scaled_features = pd.DataFrame(scaled_features, columns=features.columns)\n",
    "\n",
    "scaled_features.head(5)"
   ]
  },
  {
   "cell_type": "markdown",
   "metadata": {},
   "source": [
    "### Creating a Model\n",
    "\n",
    "The machine learning algorithm `NearestNeighbors` will be utilized to identify the data points nearest to a given input, with the aid of the `cosine similarity` measurement to determine the similarity or dissimilarity between data points."
   ]
  },
  {
   "cell_type": "code",
   "execution_count": null,
   "metadata": {
    "execution": {
     "iopub.execute_input": "2023-04-28T22:38:15.96573Z",
     "iopub.status.busy": "2023-04-28T22:38:15.965272Z",
     "iopub.status.idle": "2023-04-28T22:38:15.975382Z",
     "shell.execute_reply": "2023-04-28T22:38:15.974008Z",
     "shell.execute_reply.started": "2023-04-28T22:38:15.965683Z"
    },
    "trusted": true
   },
   "outputs": [],
   "source": [
    "model = NearestNeighbors(n_neighbors=11, metric='cosine', algorithm='brute').fit(scaled_features)\n",
    "print(model)"
   ]
  },
  {
   "cell_type": "markdown",
   "metadata": {},
   "source": [
    "As we included `n_neighbors=1` as a parameter for our model, it will generate 11 indices and distances of games that are similar to the user input, including the input itself."
   ]
  },
  {
   "cell_type": "code",
   "execution_count": null,
   "metadata": {
    "execution": {
     "iopub.execute_input": "2023-04-28T22:38:15.976937Z",
     "iopub.status.busy": "2023-04-28T22:38:15.976579Z",
     "iopub.status.idle": "2023-04-28T22:38:17.838631Z",
     "shell.execute_reply": "2023-04-28T22:38:17.837621Z",
     "shell.execute_reply.started": "2023-04-28T22:38:15.976904Z"
    },
    "trusted": true
   },
   "outputs": [],
   "source": [
    "vg_distances, vg_indices = model.kneighbors(scaled_features)\n",
    "\n",
    "print(\"List of indexes and distances for the first 5 games:\\n\")\n",
    "print(vg_indices[:5], \"\\n\")\n",
    "print(vg_distances[:5])"
   ]
  },
  {
   "cell_type": "markdown",
   "metadata": {},
   "source": [
    "`TfidfVectorizer` is a feature extraction method commonly used in natural language processing and information retrieval tasks. In this case, it is used to suggest a video game title based on the user input (i.e. game that doesn't exist in the records) by evaluating the importance of words in the input relative to the existing records."
   ]
  },
  {
   "cell_type": "code",
   "execution_count": null,
   "metadata": {
    "execution": {
     "iopub.execute_input": "2023-04-28T22:38:17.840555Z",
     "iopub.status.busy": "2023-04-28T22:38:17.839972Z",
     "iopub.status.idle": "2023-04-28T22:38:17.894925Z",
     "shell.execute_reply": "2023-04-28T22:38:17.893644Z",
     "shell.execute_reply.started": "2023-04-28T22:38:17.840519Z"
    },
    "trusted": true
   },
   "outputs": [],
   "source": [
    "game_names = video_games_df_dummy['Name'].drop_duplicates()\n",
    "game_names = game_names.reset_index(drop=True)\n",
    "\n",
    "vectorizer = TfidfVectorizer(use_idf=True).fit(game_names)\n",
    "print(vectorizer)"
   ]
  },
  {
   "cell_type": "code",
   "execution_count": null,
   "metadata": {
    "execution": {
     "iopub.execute_input": "2023-04-28T22:38:17.896635Z",
     "iopub.status.busy": "2023-04-28T22:38:17.89631Z",
     "iopub.status.idle": "2023-04-28T22:38:18.055985Z",
     "shell.execute_reply": "2023-04-28T22:38:18.054613Z",
     "shell.execute_reply.started": "2023-04-28T22:38:17.896602Z"
    },
    "trusted": true
   },
   "outputs": [],
   "source": [
    "game_title_vectors = vectorizer.transform(game_names)\n",
    "\n",
    "print(\"List of game title vectors for the first 5 games:\\n\")\n",
    "print(pd.DataFrame(game_title_vectors.toarray()).head(5))"
   ]
  },
  {
   "cell_type": "markdown",
   "metadata": {},
   "source": [
    "### Evaluating the Model\n",
    "\n",
    "The program utilizes the above-mentioned model to provide video game recommendations to users. It will ask user to enter the game's name and, optionally, the platform to filter the results. The list of recommended games will be arranged in ascending order based on the calculated distances. On the other hand, if the game's name is not in the record, the program will suggest a new name of the game that has the closest match to the input."
   ]
  },
  {
   "cell_type": "code",
   "execution_count": null,
   "metadata": {
    "execution": {
     "iopub.execute_input": "2023-04-28T22:38:18.062539Z",
     "iopub.status.busy": "2023-04-28T22:38:18.062183Z",
     "iopub.status.idle": "2023-04-28T22:38:18.077839Z",
     "shell.execute_reply": "2023-04-28T22:38:18.076983Z",
     "shell.execute_reply.started": "2023-04-28T22:38:18.062506Z"
    },
    "trusted": true
   },
   "outputs": [],
   "source": [
    "def VideoGameTitleRecommender(video_game_name):\n",
    "    '''\n",
    "    This function will recommend a game title that has the closest match to the input\n",
    "    '''\n",
    "    query_vector = vectorizer.transform([video_game_name])\n",
    "    similarity_scores = cosine_similarity(query_vector, game_title_vectors)\n",
    "\n",
    "    closest_match_index = similarity_scores.argmax()\n",
    "    closest_match_game_name = game_names[closest_match_index]\n",
    "\n",
    "    return closest_match_game_name\n",
    "\n",
    "\n",
    "def VideoGameRecommender(video_game_name, video_game_platform='Any'):\n",
    "    '''\n",
    "    This function will provide game recommendations based on various features of the game\n",
    "    '''\n",
    "    default_platform = 'Any'\n",
    "\n",
    "    # User input: Game Title and Platform\n",
    "    if video_game_platform != default_platform:\n",
    "        video_game_idx = video_games_final_df.query(\"Name == @video_game_name & Platform == @video_game_platform\").index\n",
    "        \n",
    "        if video_game_idx.empty:\n",
    "            video_game_idx = video_games_final_df.query(\"Name == @video_game_name\").index\n",
    "\n",
    "            if not video_game_idx.empty:\n",
    "                print(f\"Note: Recommendations will be based on the title of the game as it is not available on the specified platform.\\n\")\n",
    "                video_game_platform = default_platform\n",
    "    \n",
    "    # User input: Game Title only\n",
    "    else:\n",
    "        video_game_idx = video_games_final_df.query(\"Name == @video_game_name\").index  \n",
    "    \n",
    "    if video_game_idx.empty:\n",
    "        # If the game entered by the user doesn't exist in the records, the program will recommend a new game similar to the input\n",
    "        closest_match_game_name = VideoGameTitleRecommender(video_game_name)\n",
    "\n",
    "        print(f\"'{video_game_name}' doesn't exist in the records.\\n\")\n",
    "        print(f\"You may want to try '{closest_match_game_name}', which is the closest match to the input.\")\n",
    "    \n",
    "    else:\n",
    "        # User input: Game Title only\n",
    "        if video_game_platform == default_platform:\n",
    "\n",
    "            # Place in a separate dataframe the indices and distances, then sort the record by distance in ascending order       \n",
    "            vg_combined_dist_idx_df = pd.DataFrame()\n",
    "            for idx in video_game_idx:\n",
    "                # Remove from the list any game that shares the same name as the input\n",
    "                vg_dist_idx_df = pd.concat([pd.DataFrame(vg_indices[idx][1:]), pd.DataFrame(vg_distances[idx][1:])], axis=1)\n",
    "                vg_combined_dist_idx_df = pd.concat([vg_combined_dist_idx_df, vg_dist_idx_df])\n",
    "\n",
    "            vg_combined_dist_idx_df = vg_combined_dist_idx_df.set_axis(['Index', 'Distance'], axis=1, inplace=False)\n",
    "            vg_combined_dist_idx_df = vg_combined_dist_idx_df.reset_index(drop=True)\n",
    "            vg_combined_dist_idx_df = vg_combined_dist_idx_df.sort_values(by='Distance', ascending=True)\n",
    "\n",
    "            video_game_list = video_games_final_df.iloc[vg_combined_dist_idx_df['Index']]\n",
    "\n",
    "            # Remove any duplicate game names to provide the user with a diverse selection of recommended games\n",
    "            video_game_list = video_game_list.drop_duplicates(subset=['Name'], keep='first')\n",
    "            \n",
    "            # Get the first 10 games in the list\n",
    "            video_game_list = video_game_list.head(10)\n",
    "\n",
    "            # Get the distance of the games similar to the input\n",
    "            recommended_distances = np.array(vg_combined_dist_idx_df['Distance'].head(10))\n",
    "\n",
    "        # User input: Game Title and Platform\n",
    "        else:\n",
    "            # Remove from the list any game that shares the same name as the input\n",
    "            recommended_idx = vg_indices[video_game_idx[0]][1:]\n",
    "            video_game_list = video_games_final_df.iloc[recommended_idx]\n",
    "\n",
    "            # Get the distance of the games similar to the input\n",
    "            recommended_distances = np.array(vg_distances[video_game_idx[0]][1:])\n",
    "\n",
    "        print(f\"Top 10 Recommended Video Games for '{video_game_name}' [platform:{video_game_platform}]\")\n",
    "\n",
    "        video_game_list = video_game_list.reset_index(drop=True)\n",
    "        recommended_video_game_list = pd.concat([video_game_list, \n",
    "                                                 pd.DataFrame(recommended_distances, columns=['Similarity_Distance'])], axis=1)\n",
    "\n",
    "        display(recommended_video_game_list.style.hide_index())"
   ]
  },
  {
   "cell_type": "markdown",
   "metadata": {},
   "source": [
    "__TEST CASE #1__\n",
    "\n",
    "__Input:__ Video Game Title\n",
    "\n",
    "__Expected Result:__ The program merges recommendations from all platforms of the game, arranges the similiarity distances in ascending order, then displays only the first 10 games that has the smallest calculated distance."
   ]
  },
  {
   "cell_type": "code",
   "execution_count": null,
   "metadata": {
    "execution": {
     "iopub.execute_input": "2023-04-28T22:38:18.079923Z",
     "iopub.status.busy": "2023-04-28T22:38:18.07917Z",
     "iopub.status.idle": "2023-04-28T22:38:18.10881Z",
     "shell.execute_reply": "2023-04-28T22:38:18.107711Z",
     "shell.execute_reply.started": "2023-04-28T22:38:18.079867Z"
    },
    "trusted": true
   },
   "outputs": [],
   "source": [
    "VideoGameRecommender('Call of Duty: World at War')"
   ]
  },
  {
   "cell_type": "markdown",
   "metadata": {},
   "source": [
    "__TEST CASE #2__\n",
    "\n",
    "__Input:__ Video Game Title and Platform\n",
    "\n",
    "__Expected Result:__ The platform helps to limit the results and display only recommended games based on the specified game and platform.\n",
    "\n",
    "NOTE: If a platform has limited data like DC, the program might suggest games from other platforms based on various factors when calculating the features similarity."
   ]
  },
  {
   "cell_type": "code",
   "execution_count": null,
   "metadata": {
    "execution": {
     "iopub.execute_input": "2023-04-28T22:38:18.111412Z",
     "iopub.status.busy": "2023-04-28T22:38:18.110263Z",
     "iopub.status.idle": "2023-04-28T22:38:18.127468Z",
     "shell.execute_reply": "2023-04-28T22:38:18.126338Z",
     "shell.execute_reply.started": "2023-04-28T22:38:18.111362Z"
    },
    "trusted": true
   },
   "outputs": [],
   "source": [
    "VideoGameRecommender('Call of Duty: World at War', 'PC')"
   ]
  },
  {
   "cell_type": "markdown",
   "metadata": {},
   "source": [
    "__TEST CASE #3__\n",
    "\n",
    "__Input:__ Video Game Title and Platform\n",
    "\n",
    "__Constraint:__ Video game is not available on the specified platform\n",
    "\n",
    "__Expected Result:__ Since the video game is not available on the specified platform, the recommendation is based solely on the game title and ignores the platform."
   ]
  },
  {
   "cell_type": "code",
   "execution_count": null,
   "metadata": {
    "execution": {
     "iopub.execute_input": "2023-04-28T22:38:18.129894Z",
     "iopub.status.busy": "2023-04-28T22:38:18.129186Z",
     "iopub.status.idle": "2023-04-28T22:38:18.158604Z",
     "shell.execute_reply": "2023-04-28T22:38:18.157621Z",
     "shell.execute_reply.started": "2023-04-28T22:38:18.129858Z"
    },
    "trusted": true
   },
   "outputs": [],
   "source": [
    "VideoGameRecommender('Call of Duty: World at War', 'XB')"
   ]
  },
  {
   "cell_type": "markdown",
   "metadata": {},
   "source": [
    "__TEST CASE #4__\n",
    "\n",
    "__Input:__ Video Game Title\n",
    "\n",
    "__Constraint:__ Video game is not available in the records\n",
    "\n",
    "__Expected Result:__ No recommendation is shown but the program provides the user with the game title that has closest match to the input."
   ]
  },
  {
   "cell_type": "code",
   "execution_count": null,
   "metadata": {
    "execution": {
     "iopub.execute_input": "2023-04-28T22:38:18.160344Z",
     "iopub.status.busy": "2023-04-28T22:38:18.159987Z",
     "iopub.status.idle": "2023-04-28T22:38:18.172063Z",
     "shell.execute_reply": "2023-04-28T22:38:18.170829Z",
     "shell.execute_reply.started": "2023-04-28T22:38:18.16029Z"
    },
    "trusted": true
   },
   "outputs": [],
   "source": [
    "VideoGameRecommender('Call of Duty')"
   ]
  },
  {
   "cell_type": "markdown",
   "metadata": {},
   "source": [
    "### Assumptions\n",
    "- Removed records with missing values in `Name`, `Genre` and `Rating` features\n",
    "- Conducted data-imputation on missing and 'tbd' values in `User_Score` and `Critic_Score` features. The imputed data was calculated as the mean value of the `User_Score` or `Critic_score` variable within a particular genre, e.g. the average of all scores under the 'Action' category."
   ]
  },
  {
   "cell_type": "markdown",
   "metadata": {},
   "source": [
    "### References\n",
    "\n",
    "1. https://www.kaggle.com/datasets/rush4ratio/video-game-sales-with-ratings\n",
    "2. https://thecleverprogrammer.com/2021/01/17/book-recommendation-system/\n",
    "3. https://aman-makwana101932.medium.com/understanding-recommendation-system-and-knn-with-project-book-recommendation-system-c648e47ff4f6\n",
    "4. https://www.aurigait.com/blog/recommendation-system-using-knn/\n",
    "5. https://towardsdatascience.com/cosine-similarity-how-does-it-measure-the-similarity-maths-behind-and-usage-in-python-50ad30aad7db"
   ]
  },
  {
   "cell_type": "markdown",
   "metadata": {},
   "source": [
    "> BDM-3014 Winter 2023 Project (Group 12)"
   ]
  }
 ],
 "metadata": {
  "kaggle": {
   "accelerator": "none",
   "dataSources": [
    {
     "datasetId": 576,
     "sourceId": 1146,
     "sourceType": "datasetVersion"
    }
   ],
   "dockerImageVersionId": 30458,
   "isGpuEnabled": false,
   "isInternetEnabled": false,
   "language": "python",
   "sourceType": "notebook"
  },
  "kernelspec": {
   "display_name": "Python 3",
   "language": "python",
   "name": "python3"
  },
  "language_info": {
   "codemirror_mode": {
    "name": "ipython",
    "version": 3
   },
   "file_extension": ".py",
   "mimetype": "text/x-python",
   "name": "python",
   "nbconvert_exporter": "python",
   "pygments_lexer": "ipython3",
   "version": "3.6.4"
  }
 },
 "nbformat": 4,
 "nbformat_minor": 4
}
